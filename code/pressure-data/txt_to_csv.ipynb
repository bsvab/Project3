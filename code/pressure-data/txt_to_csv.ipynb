{
 "cells": [
  {
   "cell_type": "code",
   "execution_count": 1,
   "metadata": {},
   "outputs": [],
   "source": [
    "import csv"
   ]
  },
  {
   "cell_type": "code",
   "execution_count": 19,
   "metadata": {},
   "outputs": [],
   "source": [
    "# Read the data from the text file\n",
    "with open('pressure_data.txt', 'r') as file:\n",
    "    lines = file.readlines()\n",
    "\n",
    "# Initialize variables to store the CSV data\n",
    "csv_data = []\n",
    "current_time = None\n",
    "\n",
    "# Process each line of the input data\n",
    "for line in lines:\n",
    "    line = line.strip()  # Remove leading/trailing whitespace\n",
    "    if line.startswith(\"TIME\"):\n",
    "        current_time = line.split()[1]  # Extract the TIME value\n",
    "    elif line:  # Non-empty line\n",
    "        parts = line.split()  # Split the line by whitespace\n",
    "        print(parts)\n",
    "        if len(parts) >= 3:  # Check if line has enough elements\n",
    "            x, y, layer_value = parts[0], parts[1], parts[2]\n",
    "            layer_number = parts[-1]  # Extract layer number from the header\n",
    "            csv_data.append([current_time, x, y, layer_value, layer_number])\n",
    "\n",
    "# Write the CSV data to a new file\n",
    "with open('output.csv', 'w') as csv_file:\n",
    "    # Write headers\n",
    "    csv_file.write('Time,X,Y,Layer,Layer Number\\n')\n",
    "    # Write data\n",
    "    for entry in csv_data:\n",
    "        csv_file.write(','.join(entry) + '\\n')\n"
   ]
  }
 ],
 "metadata": {
  "kernelspec": {
   "display_name": "Python 3",
   "language": "python",
   "name": "python3"
  },
  "language_info": {
   "codemirror_mode": {
    "name": "ipython",
    "version": 3
   },
   "file_extension": ".py",
   "mimetype": "text/x-python",
   "name": "python",
   "nbconvert_exporter": "python",
   "pygments_lexer": "ipython3",
   "version": "3.11.8"
  }
 },
 "nbformat": 4,
 "nbformat_minor": 2
}
