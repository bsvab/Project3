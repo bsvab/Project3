{
 "cells": [
  {
   "cell_type": "markdown",
   "metadata": {},
   "source": [
    "# Import dependencies"
   ]
  },
  {
   "cell_type": "code",
   "execution_count": 16,
   "metadata": {},
   "outputs": [],
   "source": [
    "import pandas as pd\n",
    "import psycopg2\n",
    "from psycopg2 import sql\n",
    "from psycopg2.extensions import ISOLATION_LEVEL_AUTOCOMMIT\n",
    "import subprocess\n",
    "from sqlalchemy import create_engine\n",
    "\n",
    "from config import PGEND_POINT\n",
    "from config import PGDATABASE_NAME\n",
    "from config import PGUSER_NAME\n",
    "from config import PGPASSWORD"
   ]
  },
  {
   "cell_type": "markdown",
   "metadata": {},
   "source": [
    "# AWS RDS Connection"
   ]
  },
  {
   "cell_type": "code",
   "execution_count": 4,
   "metadata": {},
   "outputs": [],
   "source": [
    "def connect():\n",
    "    \n",
    "    # Set up a connection to the postgres server.\n",
    "    conn_string = \"host=\"+ PGEND_POINT +\" port=\"+ \"5432\" +\" dbname=\"+ PGDATABASE_NAME +\" user=\" + PGUSER_NAME \\\n",
    "                  +\" password=\"+ PGPASSWORD\n",
    "    \n",
    "    conn = psycopg2.connect(conn_string)\n",
    "    print(\"Connected!\")\n",
    "\n",
    "    # Create a cursor object\n",
    "    cursor = conn.cursor()\n",
    "    \n",
    "    return conn, cursor"
   ]
  },
  {
   "cell_type": "code",
   "execution_count": 5,
   "metadata": {},
   "outputs": [
    {
     "name": "stdout",
     "output_type": "stream",
     "text": [
      "Connected!\n"
     ]
    }
   ],
   "source": [
    "conn, cursor = connect()"
   ]
  },
  {
   "cell_type": "markdown",
   "metadata": {},
   "source": [
    "# SQL Queries"
   ]
  },
  {
   "cell_type": "markdown",
   "metadata": {},
   "source": [
    "### Create earthquakes table"
   ]
  },
  {
   "cell_type": "code",
   "execution_count": 6,
   "metadata": {},
   "outputs": [],
   "source": [
    "# Creating the earthquakes table\n",
    "query_earthquakes = sql.SQL(\"\"\"CREATE TABLE earthquakes (\n",
    "  latitude DECIMAL,\n",
    "  longitude DECIMAL,\n",
    "  magnitude DECIMAL,\n",
    "  event_date DATE\n",
    ");\"\"\")"
   ]
  },
  {
   "cell_type": "code",
   "execution_count": 7,
   "metadata": {},
   "outputs": [
    {
     "name": "stdout",
     "output_type": "stream",
     "text": [
      "Transaction rolled back due to error: relation \"earthquakes\" already exists\n",
      "\n"
     ]
    }
   ],
   "source": [
    "# Create a cursor object\n",
    "cur = conn.cursor()\n",
    "\n",
    "try:\n",
    "    # Execute your SQL statements here\n",
    "    cur.execute(query_earthquakes)\n",
    "\n",
    "    # If everything is successful, commit the transaction\n",
    "    conn.commit()\n",
    "    print(\"Transaction committed successfully!\")\n",
    "except psycopg2.Error as e:\n",
    "    # If an error occurs, rollback the transaction\n",
    "    conn.rollback()\n",
    "    print(\"Transaction rolled back due to error:\", e)\n",
    "finally:\n",
    "    # Close the cursor and connection\n",
    "    cur.close()"
   ]
  },
  {
   "cell_type": "markdown",
   "metadata": {},
   "source": [
    "### Create injectionVolumes table"
   ]
  },
  {
   "cell_type": "code",
   "execution_count": 36,
   "metadata": {},
   "outputs": [],
   "source": [
    "# Creating the injectionVolumes table\n",
    "query_injectionVolumes = sql.SQL(\"\"\"CREATE TABLE injection_volumes (\n",
    "  api_number INT,\n",
    "  surface_longitude DECIMAL,\n",
    "  surface_latitude DECIMAL,\n",
    "  injection_date DATE,\n",
    "  injection_end_date DATE,\n",
    "  volume_injected_bbls DECIMAL\n",
    ");\"\"\")"
   ]
  },
  {
   "cell_type": "code",
   "execution_count": 37,
   "metadata": {},
   "outputs": [
    {
     "name": "stdout",
     "output_type": "stream",
     "text": [
      "Transaction committed successfully!\n"
     ]
    }
   ],
   "source": [
    "# Create a cursor object\n",
    "cur = conn.cursor()\n",
    "\n",
    "try:\n",
    "    # Execute your SQL statements here\n",
    "    cur.execute(query_injectionVolumes)\n",
    "\n",
    "    # If everything is successful, commit the transaction\n",
    "    conn.commit()\n",
    "    print(\"Transaction committed successfully!\")\n",
    "except psycopg2.Error as e:\n",
    "    # If an error occurs, rollback the transaction\n",
    "    conn.rollback()\n",
    "    print(\"Transaction rolled back due to error:\", e)\n",
    "finally:\n",
    "    # Close the cursor and connection\n",
    "    cur.close()\n",
    "   "
   ]
  },
  {
   "cell_type": "markdown",
   "metadata": {},
   "source": [
    "### Create pressureData table"
   ]
  },
  {
   "cell_type": "code",
   "execution_count": 10,
   "metadata": {},
   "outputs": [],
   "source": [
    "# Creating the pressureData table\n",
    "query_pressureData = sql.SQL(\"\"\"CREATE TABLE pressure_data (\n",
    "  time DATE,\n",
    "  pressure DECIMAL,\n",
    "  layer VARCHAR(10),\n",
    "  longitude DECIMAL,\n",
    "  latitude DECIMAL\n",
    ");\"\"\")"
   ]
  },
  {
   "cell_type": "code",
   "execution_count": 11,
   "metadata": {},
   "outputs": [
    {
     "name": "stdout",
     "output_type": "stream",
     "text": [
      "Transaction rolled back due to error: relation \"pressure_data\" already exists\n",
      "\n"
     ]
    }
   ],
   "source": [
    "# Create a cursor object\n",
    "cur = conn.cursor()\n",
    "\n",
    "try:\n",
    "    # Execute your SQL statements here\n",
    "    cur.execute(query_pressureData)\n",
    "\n",
    "    # If everything is successful, commit the transaction\n",
    "    conn.commit()\n",
    "    print(\"Transaction committed successfully!\")\n",
    "except psycopg2.Error as e:\n",
    "    # If an error occurs, rollback the transaction\n",
    "    conn.rollback()\n",
    "    print(\"Transaction rolled back due to error:\", e)\n",
    "finally:\n",
    "    # Close the cursor and connection\n",
    "    cur.close()\n",
    "   "
   ]
  },
  {
   "cell_type": "markdown",
   "metadata": {},
   "source": [
    "### Create query_pressureData_13 table"
   ]
  },
  {
   "cell_type": "code",
   "execution_count": null,
   "metadata": {},
   "outputs": [],
   "source": [
    "# Creating the query_pressureData_13 table\n",
    "query_pressureData_13 = sql.SQL(\"\"\"CREATE TABLE pressure_data_13 (\n",
    "  time DATE,\n",
    "  pressure DECIMAL,\n",
    "  layer VARCHAR(10),\n",
    "  longitude DECIMAL,\n",
    "  latitude DECIMAL,\n",
    "  delta DECIMAL\n",
    ");\"\"\")"
   ]
  },
  {
   "cell_type": "code",
   "execution_count": null,
   "metadata": {},
   "outputs": [],
   "source": [
    "# Create a cursor object\n",
    "cur = conn.cursor()\n",
    "\n",
    "try:\n",
    "    # Execute your SQL statements here\n",
    "    cur.execute(query_pressureData_13)\n",
    "\n",
    "    # If everything is successful, commit the transaction\n",
    "    conn.commit()\n",
    "    print(\"Transaction committed successfully!\")\n",
    "except psycopg2.Error as e:\n",
    "    # If an error occurs, rollback the transaction\n",
    "    conn.rollback()\n",
    "    print(\"Transaction rolled back due to error:\", e)\n",
    "finally:\n",
    "    # Close the cursor and connection\n",
    "    cur.close()"
   ]
  },
  {
   "cell_type": "markdown",
   "metadata": {},
   "source": [
    "### Create query_pressureData_revised table"
   ]
  },
  {
   "cell_type": "code",
   "execution_count": null,
   "metadata": {},
   "outputs": [],
   "source": [
    "# Creating the query_pressureData_revised table\n",
    "query_pressureData_revised = sql.SQL(\"\"\"CREATE TABLE pressure_data_revised (\n",
    "  time DATE,\n",
    "  pressure DECIMAL,\n",
    "  layer VARCHAR(10),\n",
    "  longitude DECIMAL,\n",
    "  latitude DECIMAL,\n",
    "  delta DECIMAL\n",
    ");\"\"\")"
   ]
  },
  {
   "cell_type": "code",
   "execution_count": null,
   "metadata": {},
   "outputs": [],
   "source": [
    "# Create a cursor object\n",
    "cur = conn.cursor()\n",
    "\n",
    "try:\n",
    "    # Execute your SQL statements here\n",
    "    cur.execute(query_pressureData_revised)\n",
    "\n",
    "    # If everything is successful, commit the transaction\n",
    "    conn.commit()\n",
    "    print(\"Transaction committed successfully!\")\n",
    "except psycopg2.Error as e:\n",
    "    # If an error occurs, rollback the transaction\n",
    "    conn.rollback()\n",
    "    print(\"Transaction rolled back due to error:\", e)\n",
    "finally:\n",
    "    # Close the cursor and connection\n",
    "    cur.close()"
   ]
  },
  {
   "cell_type": "markdown",
   "metadata": {},
   "source": [
    "### Define functions and variables required to load data into the tables"
   ]
  },
  {
   "cell_type": "code",
   "execution_count": 17,
   "metadata": {},
   "outputs": [],
   "source": [
    "def connect():\n",
    "    # Set up a connection to the postgres server.\n",
    "    conn_string = f\"postgresql+psycopg2://{PGUSER_NAME}:{PGPASSWORD}@{PGEND_POINT}:5432/{PGDATABASE_NAME}\"\n",
    "    engine = create_engine(conn_string)\n",
    "    print(\"Connected to the database!\")\n",
    "    return engine"
   ]
  },
  {
   "cell_type": "code",
   "execution_count": 18,
   "metadata": {},
   "outputs": [],
   "source": [
    "def load_data_to_table(dataframe, table_name, engine):\n",
    "    dataframe.to_sql(name=table_name, con=engine, if_exists='append', index=False)\n",
    "    print(f\"Data loaded into {table_name} successfully!\")\n"
   ]
  },
  {
   "cell_type": "code",
   "execution_count": 28,
   "metadata": {},
   "outputs": [
    {
     "name": "stdout",
     "output_type": "stream",
     "text": [
      "Connected to the database!\n"
     ]
    }
   ],
   "source": [
    "# Connect to the database\n",
    "engine = connect()"
   ]
  },
  {
   "cell_type": "code",
   "execution_count": 20,
   "metadata": {},
   "outputs": [],
   "source": [
    "# Create databases from the csv files\n",
    "earthquakes_df = pd.read_csv('earthquake-data/earthquakes.csv')\n",
    "injection_volumes_df = pd.read_csv('injectionVolumes-Data/injectionVolumes.csv')\n",
    "pressure_data_df = pd.read_csv('pressure-data/Updated_Pressure_Data_with_LatLon.csv')\n",
    "pressure_data_13_df = pd.read_csv('pressure-data/delta_pressure_layer13.csv')\n",
    "pressure_data_revised_df = pd.read_csv('pressure-data/delta_pressure_all_layers.csv')"
   ]
  },
  {
   "cell_type": "markdown",
   "metadata": {},
   "source": [
    "### Load earthquakes data"
   ]
  },
  {
   "cell_type": "code",
   "execution_count": 25,
   "metadata": {},
   "outputs": [],
   "source": [
    "# Rename earthquakes columns to match the table\n",
    "earthquakes_df.rename(columns={'Latitude': 'latitude', 'Longitude': 'longitude', 'Magnitude': 'magnitude', 'Event_Date': 'event_date'}, inplace=True)"
   ]
  },
  {
   "cell_type": "code",
   "execution_count": 29,
   "metadata": {},
   "outputs": [
    {
     "name": "stdout",
     "output_type": "stream",
     "text": [
      "Data loaded into earthquakes successfully!\n"
     ]
    }
   ],
   "source": [
    "# Load the earthquakes data\n",
    "load_data_to_table(earthquakes_df, 'earthquakes', engine)"
   ]
  },
  {
   "cell_type": "markdown",
   "metadata": {},
   "source": [
    "### Load injectionVolumes data"
   ]
  },
  {
   "cell_type": "code",
   "execution_count": 31,
   "metadata": {},
   "outputs": [],
   "source": [
    "# Rename injectionVolumes columns to match the table\n",
    "injection_volumes_df.rename(columns={'API Number': 'api_number', 'Surface Longitude': 'surface_longitude', 'Surface Latitude': 'surface_latitude', 'Injection Date': 'injection_date', 'Injection End Date': 'injection_end_date',\n",
    "                                     'Volume Injected: BBLs': 'volume_injected_bbls'}, inplace=True)"
   ]
  },
  {
   "cell_type": "code",
   "execution_count": 38,
   "metadata": {},
   "outputs": [
    {
     "name": "stdout",
     "output_type": "stream",
     "text": [
      "Data loaded into injection_volumes successfully!\n"
     ]
    }
   ],
   "source": [
    "# Load the injectionVolumes data\n",
    "load_data_to_table(injection_volumes_df, 'injection_volumes', engine)"
   ]
  },
  {
   "cell_type": "markdown",
   "metadata": {},
   "source": [
    "### Load pressure data"
   ]
  },
  {
   "cell_type": "code",
   "execution_count": 40,
   "metadata": {},
   "outputs": [],
   "source": [
    "# Rename pressureData columns to match the table\n",
    "pressure_data_df.rename(columns={'Time': 'time', 'Pressure': 'pressure', 'Layer': 'layer', 'Longitude': 'longitude', 'Latitude': 'latitude'}, inplace=True)"
   ]
  },
  {
   "cell_type": "code",
   "execution_count": 42,
   "metadata": {},
   "outputs": [
    {
     "name": "stdout",
     "output_type": "stream",
     "text": [
      "Data loaded into pressure_data successfully!\n"
     ]
    }
   ],
   "source": [
    "# Load the pressure data\n",
    "load_data_to_table(pressure_data_df, 'pressure_data', engine)"
   ]
  },
  {
   "cell_type": "markdown",
   "metadata": {},
   "source": [
    "### Load pressure_data_13"
   ]
  },
  {
   "cell_type": "code",
   "execution_count": null,
   "metadata": {},
   "outputs": [],
   "source": [
    "# Rename pressure_data_13 columns to match the table\n",
    "pressure_data_13_df.rename(columns={'Time': 'time', 'Pressure': 'pressure', 'Layer': 'layer', 'Longitude': 'longitude', 'Latitude': 'latitude', 'Delta': 'delta'}, inplace=True)"
   ]
  },
  {
   "cell_type": "code",
   "execution_count": null,
   "metadata": {},
   "outputs": [],
   "source": [
    "# Load the pressure_data_13 data\n",
    "load_data_to_table(pressure_data_13_df, 'pressure_data_13', engine)"
   ]
  },
  {
   "cell_type": "markdown",
   "metadata": {},
   "source": [
    "### Load pressure data for all layers"
   ]
  },
  {
   "cell_type": "code",
   "execution_count": null,
   "metadata": {},
   "outputs": [],
   "source": [
    "# Rename pressureData columns to match the table\n",
    "pressure_data_revised_df.rename(columns={'Time': 'time', 'Pressure': 'pressure', 'Layer': 'layer', 'Longitude': 'longitude', 'Latitude': 'latitude', 'Delta': 'delta'}, inplace=True)"
   ]
  },
  {
   "cell_type": "code",
   "execution_count": null,
   "metadata": {},
   "outputs": [],
   "source": [
    "# Load the pressure data\n",
    "load_data_to_table(pressure_data_revised_df, 'pressure_data_revised', engine)"
   ]
  }
 ],
 "metadata": {
  "kernelspec": {
   "display_name": "Python 3",
   "language": "python",
   "name": "python3"
  },
  "language_info": {
   "codemirror_mode": {
    "name": "ipython",
    "version": 3
   },
   "file_extension": ".py",
   "mimetype": "text/x-python",
   "name": "python",
   "nbconvert_exporter": "python",
   "pygments_lexer": "ipython3",
   "version": "3.11.8"
  }
 },
 "nbformat": 4,
 "nbformat_minor": 2
}
