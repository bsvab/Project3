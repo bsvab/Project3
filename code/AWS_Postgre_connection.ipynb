{
 "cells": [
  {
   "cell_type": "code",
   "execution_count": 14,
   "metadata": {},
   "outputs": [],
   "source": [
    "# Import Dependencies\n",
    "import pandas as pd\n",
    "import psycopg2\n",
    "from psycopg2 import sql\n",
    "import subprocess\n",
    "\n",
    "from config import PGEND_POINT\n",
    "from config import PGDATABASE_NAME\n",
    "from config import PGUSER_NAME\n",
    "from config import PGPASSWORD"
   ]
  },
  {
   "cell_type": "markdown",
   "metadata": {},
   "source": [
    "# AWS RDS Connection"
   ]
  },
  {
   "cell_type": "code",
   "execution_count": 2,
   "metadata": {},
   "outputs": [],
   "source": [
    "def connect():\n",
    "    \n",
    "    # Set up a connection to the postgres server.\n",
    "    conn_string = \"host=\"+ PGEND_POINT +\" port=\"+ \"5432\" +\" dbname=\"+ PGDATABASE_NAME +\" user=\" + PGUSER_NAME \\\n",
    "                  +\" password=\"+ PGPASSWORD\n",
    "    \n",
    "    conn = psycopg2.connect(conn_string)\n",
    "    print(\"Connected!\")\n",
    "\n",
    "    # Create a cursor object\n",
    "    cursor = conn.cursor()\n",
    "    \n",
    "    return conn, cursor"
   ]
  },
  {
   "cell_type": "code",
   "execution_count": 3,
   "metadata": {},
   "outputs": [
    {
     "name": "stdout",
     "output_type": "stream",
     "text": [
      "Connected!\n"
     ]
    }
   ],
   "source": [
    "conn, cursor = connect()"
   ]
  },
  {
   "cell_type": "markdown",
   "metadata": {},
   "source": [
    "# SQL Queries"
   ]
  },
  {
   "cell_type": "code",
   "execution_count": 4,
   "metadata": {},
   "outputs": [],
   "source": [
    "# Creating the earthquakes table\n",
    "query_earthquakes = sql.SQL(\"\"\"CREATE TABLE earthquakes (\n",
    "  latitude DECIMAL,\n",
    "  longitude DECIMAL,\n",
    "  magnitude DECIMAL,\n",
    "  event_date DATE\n",
    ");\"\"\")"
   ]
  },
  {
   "cell_type": "code",
   "execution_count": 5,
   "metadata": {},
   "outputs": [
    {
     "name": "stdout",
     "output_type": "stream",
     "text": [
      "Transaction committed successfully!\n"
     ]
    }
   ],
   "source": [
    "# Create a cursor object\n",
    "cur = conn.cursor()\n",
    "\n",
    "try:\n",
    "    # Execute your SQL statements here\n",
    "    cur.execute(query_earthquakes)\n",
    "\n",
    "    # If everything is successful, commit the transaction\n",
    "    conn.commit()\n",
    "    print(\"Transaction committed successfully!\")\n",
    "except psycopg2.Error as e:\n",
    "    # If an error occurs, rollback the transaction\n",
    "    conn.rollback()\n",
    "    print(\"Transaction rolled back due to error:\", e)\n",
    "finally:\n",
    "    # Close the cursor and connection\n",
    "    cur.close()\n",
    "    conn.close()"
   ]
  },
  {
   "cell_type": "code",
   "execution_count": null,
   "metadata": {},
   "outputs": [],
   "source": []
  },
  {
   "cell_type": "code",
   "execution_count": null,
   "metadata": {},
   "outputs": [],
   "source": []
  },
  {
   "cell_type": "code",
   "execution_count": 6,
   "metadata": {},
   "outputs": [],
   "source": [
    "# Creating the injectionVolumes table\n",
    "query_injectionVolumes = sql.SQL(\"\"\"CREATE TABLE injection_volumes (\n",
    "  api_number INT,\n",
    "  surface_longitude DECIMAL,\n",
    "  surface_latitude DECIMAL,\n",
    "  injection_date DATE,\n",
    "  injection_end_date DATE,\n",
    "  volume_injected_bbls DECIMAL,\n",
    "  PRIMARY KEY (api_number)\n",
    ");\"\"\")"
   ]
  },
  {
   "cell_type": "code",
   "execution_count": 8,
   "metadata": {},
   "outputs": [
    {
     "name": "stdout",
     "output_type": "stream",
     "text": [
      "Connected!\n",
      "Transaction committed successfully!\n"
     ]
    }
   ],
   "source": [
    "conn, cursor = connect()\n",
    "\n",
    "# Create a cursor object\n",
    "cur = conn.cursor()\n",
    "\n",
    "try:\n",
    "    # Execute your SQL statements here\n",
    "    cur.execute(query_injectionVolumes)\n",
    "\n",
    "    # If everything is successful, commit the transaction\n",
    "    conn.commit()\n",
    "    print(\"Transaction committed successfully!\")\n",
    "except psycopg2.Error as e:\n",
    "    # If an error occurs, rollback the transaction\n",
    "    conn.rollback()\n",
    "    print(\"Transaction rolled back due to error:\", e)\n",
    "finally:\n",
    "    # Close the cursor and connection\n",
    "    cur.close()\n",
    "    conn.close()"
   ]
  },
  {
   "cell_type": "code",
   "execution_count": null,
   "metadata": {},
   "outputs": [],
   "source": []
  },
  {
   "cell_type": "code",
   "execution_count": 9,
   "metadata": {},
   "outputs": [],
   "source": [
    "# Creating the pressureData table\n",
    "query_pressureData = sql.SQL(\"\"\"CREATE TABLE pressure_data (\n",
    "  time DATE,\n",
    "  pressure DECIMAL,\n",
    "  layer VARCHAR(10),\n",
    "  longitude DECIMAL,\n",
    "  latitude DECIMAL\n",
    ");\"\"\")"
   ]
  },
  {
   "cell_type": "code",
   "execution_count": 10,
   "metadata": {},
   "outputs": [
    {
     "name": "stdout",
     "output_type": "stream",
     "text": [
      "Connected!\n",
      "Transaction committed successfully!\n"
     ]
    }
   ],
   "source": [
    "conn, cursor = connect()\n",
    "\n",
    "# Create a cursor object\n",
    "cur = conn.cursor()\n",
    "\n",
    "try:\n",
    "    # Execute your SQL statements here\n",
    "    cur.execute(query_pressureData)\n",
    "\n",
    "    # If everything is successful, commit the transaction\n",
    "    conn.commit()\n",
    "    print(\"Transaction committed successfully!\")\n",
    "except psycopg2.Error as e:\n",
    "    # If an error occurs, rollback the transaction\n",
    "    conn.rollback()\n",
    "    print(\"Transaction rolled back due to error:\", e)\n",
    "finally:\n",
    "    # Close the cursor and connection\n",
    "    cur.close()\n",
    "    conn.close()"
   ]
  }
 ],
 "metadata": {
  "kernelspec": {
   "display_name": "Python 3",
   "language": "python",
   "name": "python3"
  },
  "language_info": {
   "codemirror_mode": {
    "name": "ipython",
    "version": 3
   },
   "file_extension": ".py",
   "mimetype": "text/x-python",
   "name": "python",
   "nbconvert_exporter": "python",
   "pygments_lexer": "ipython3",
   "version": "3.11.8"
  }
 },
 "nbformat": 4,
 "nbformat_minor": 2
}
