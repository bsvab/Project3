{
 "cells": [
  {
   "cell_type": "code",
   "execution_count": 10,
   "metadata": {},
   "outputs": [
    {
     "name": "stdout",
     "output_type": "stream",
     "text": [
      "<Response [200]>\n",
      "Feature 1: {'geometry': {'coordinates': ['-105.1420409', '32.56385719'], 'type': 'Point'}, 'properties': {'Date': 'Sun, 01 Jan 2017 00:00:00 GMT', 'Layer': 'Layer_13', 'Pressure': '2580.6', 'Pressure Delta': '0.0'}, 'type': 'Feature'}\n",
      "Feature 2: {'geometry': {'coordinates': ['-105.1420409', '32.56385719'], 'type': 'Point'}, 'properties': {'Date': 'Wed, 01 Feb 2017 00:00:00 GMT', 'Layer': 'Layer_13', 'Pressure': '2580.65', 'Pressure Delta': '0.05'}, 'type': 'Feature'}\n",
      "Feature 3: {'geometry': {'coordinates': ['-105.1420409', '32.56385719'], 'type': 'Point'}, 'properties': {'Date': 'Wed, 01 Mar 2017 00:00:00 GMT', 'Layer': 'Layer_13', 'Pressure': '2580.68', 'Pressure Delta': '0.08'}, 'type': 'Feature'}\n",
      "Feature 4: {'geometry': {'coordinates': ['-105.1420409', '32.56385719'], 'type': 'Point'}, 'properties': {'Date': 'Sat, 01 Apr 2017 00:00:00 GMT', 'Layer': 'Layer_13', 'Pressure': '2580.72', 'Pressure Delta': '0.12'}, 'type': 'Feature'}\n",
      "Feature 5: {'geometry': {'coordinates': ['-105.1420409', '32.56385719'], 'type': 'Point'}, 'properties': {'Date': 'Mon, 01 May 2017 00:00:00 GMT', 'Layer': 'Layer_13', 'Pressure': '2580.76', 'Pressure Delta': '0.16'}, 'type': 'Feature'}\n",
      "Feature 6: {'geometry': {'coordinates': ['-105.1420409', '32.56385719'], 'type': 'Point'}, 'properties': {'Date': 'Thu, 01 Jun 2017 00:00:00 GMT', 'Layer': 'Layer_13', 'Pressure': '2580.8', 'Pressure Delta': '0.2'}, 'type': 'Feature'}\n",
      "Feature 7: {'geometry': {'coordinates': ['-105.1420409', '32.56385719'], 'type': 'Point'}, 'properties': {'Date': 'Sat, 01 Jul 2017 00:00:00 GMT', 'Layer': 'Layer_13', 'Pressure': '2580.82', 'Pressure Delta': '0.22'}, 'type': 'Feature'}\n",
      "Feature 8: {'geometry': {'coordinates': ['-105.1420409', '32.56385719'], 'type': 'Point'}, 'properties': {'Date': 'Tue, 01 Aug 2017 00:00:00 GMT', 'Layer': 'Layer_13', 'Pressure': '2580.86', 'Pressure Delta': '0.26'}, 'type': 'Feature'}\n",
      "Feature 9: {'geometry': {'coordinates': ['-105.1420409', '32.56385719'], 'type': 'Point'}, 'properties': {'Date': 'Fri, 01 Sep 2017 00:00:00 GMT', 'Layer': 'Layer_13', 'Pressure': '2580.89', 'Pressure Delta': '0.29'}, 'type': 'Feature'}\n",
      "Feature 10: {'geometry': {'coordinates': ['-105.1420409', '32.56385719'], 'type': 'Point'}, 'properties': {'Date': 'Sun, 01 Oct 2017 00:00:00 GMT', 'Layer': 'Layer_13', 'Pressure': '2580.93', 'Pressure Delta': '0.33'}, 'type': 'Feature'}\n"
     ]
    }
   ],
   "source": [
    "import requests\n",
    "\n",
    "# Make a GET request to your Flask server\n",
    "response = requests.get('http://127.0.0.1:5000/pressure_data_13')\n",
    "print(response)\n",
    "\n",
    "# Check if the request was successful (status code 200)\n",
    "if response.status_code == 200:\n",
    "    # Extract the GeoJSON data from the response\n",
    "    geojson_data = response.json()\n",
    "    \n",
    "    # Display only the first 10 features in the GeoJSON data\n",
    "    for i, feature in enumerate(geojson_data['features'][:10], start=1):\n",
    "        print(f\"Feature {i}: {feature}\")\n",
    "else:\n",
    "    # Print an error message if the request was not successful\n",
    "    print(f\"Error: {response.status_code}\")\n"
   ]
  }
 ],
 "metadata": {
  "kernelspec": {
   "display_name": "base",
   "language": "python",
   "name": "python3"
  },
  "language_info": {
   "codemirror_mode": {
    "name": "ipython",
    "version": 3
   },
   "file_extension": ".py",
   "mimetype": "text/x-python",
   "name": "python",
   "nbconvert_exporter": "python",
   "pygments_lexer": "ipython3",
   "version": "3.11.5"
  }
 },
 "nbformat": 4,
 "nbformat_minor": 2
}
