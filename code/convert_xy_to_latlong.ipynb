{
 "cells": [
  {
   "cell_type": "code",
   "execution_count": 13,
   "id": "bc5fea47",
   "metadata": {},
   "outputs": [
    {
     "data": {
      "text/plain": [
       "'Updated_Pressure_Data_with_LatLon.csv'"
      ]
     },
     "execution_count": 13,
     "metadata": {},
     "output_type": "execute_result"
    }
   ],
   "source": [
    "import pandas as pd\n",
    "import pyproj\n",
    "import numpy as np\n",
    "\n",
    "# Define the custom Lambert Conformal Conic projection\n",
    "proj_string = \"\"\"\n",
    "    +proj=lcc +datum=NAD83 +ellps=GRS80 +lon_0=-100 +lat_1=27.4166666666667\n",
    "    +lat_2=34.9166666666667 +lat_0=31.1666666666667 +x_0=999999.9998984\n",
    "    +y_0=999999.9998984 +unit=us-ft +no_defs\n",
    "\"\"\"\n",
    "\n",
    "# Initialize the Transformer object\n",
    "transformer = pyproj.Transformer.from_proj(\n",
    "    pyproj.Proj(proj_string),  # Source coordinate system\n",
    "    pyproj.Proj(proj='latlong', datum='WGS84'),  # Destination coordinate system\n",
    "    always_xy=True  \n",
    ")\n",
    "\n",
    "# Load the CSV file in chunks\n",
    "csv_file_path = 'Updated_Pressure_Data.csv' \n",
    "\n",
    "# Set up a CSV writer to write the output to a new file\n",
    "output_csv_path = 'Updated_Pressure_Data_with_LatLon.csv'\n",
    "chunksize = 10000  # Process 10,000 rows at a time\n",
    "\n",
    "# Write the header first\n",
    "first_chunk = True\n",
    "\n",
    "for chunk in pd.read_csv(csv_file_path, chunksize=chunksize):\n",
    "    # Convert from US feet to meters\n",
    "    chunk['X_meters'] = chunk['X'] * 0.3048\n",
    "    chunk['Y_meters'] = chunk['Y'] * 0.3048\n",
    "\n",
    "    # Transform to lat, lon\n",
    "    chunk['Longitude'], chunk['Latitude'] = transformer.transform(chunk['X_meters'].values, chunk['Y_meters'].values)  \n",
    "\n",
    "    # Drop the intermediate columns\n",
    "    chunk.drop(['X_meters', 'Y_meters', 'X', 'Y'], axis=1, inplace=True)\n",
    "\n",
    "    # Write the chunk to a CSV\n",
    "    mode = 'w' if first_chunk else 'a'\n",
    "    header = first_chunk  # Write header only in the first chunk\n",
    "    chunk.to_csv(output_csv_path, mode=mode, index=False, header=header)\n",
    "    first_chunk = False\n",
    "\n",
    "# Return the path to the new CSV file\n",
    "output_csv_path"
   ]
  },
  {
   "cell_type": "code",
   "execution_count": null,
   "id": "d67ded12",
   "metadata": {},
   "outputs": [],
   "source": []
  }
 ],
 "metadata": {
  "kernelspec": {
   "display_name": "Python 3 (ipykernel)",
   "language": "python",
   "name": "python3"
  },
  "language_info": {
   "codemirror_mode": {
    "name": "ipython",
    "version": 3
   },
   "file_extension": ".py",
   "mimetype": "text/x-python",
   "name": "python",
   "nbconvert_exporter": "python",
   "pygments_lexer": "ipython3",
   "version": "3.9.12"
  }
 },
 "nbformat": 4,
 "nbformat_minor": 5
}
